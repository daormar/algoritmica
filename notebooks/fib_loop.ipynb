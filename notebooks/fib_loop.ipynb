{
 "cells": [
  {
   "cell_type": "code",
   "execution_count": null,
   "id": "2d34764e-40a6-45bb-839a-918540364ca4",
   "metadata": {},
   "outputs": [],
   "source": [
    "def fibonacci(n):\n",
    "    if n == 0 or n == 1:\n",
    "        return n\n",
    "\n",
    "    # Variables para almacenar los términos actual y anterior\n",
    "    fib_prev = 0\n",
    "    fib_curr = 1\n",
    "\n",
    "    # Iterar desde el 2 hasta n\n",
    "    for i in range(2, n + 1):\n",
    "        fib_prev, fib_curr = fib_curr, fib_prev + fib_curr\n",
    " \n",
    "    return fib_curr\n",
    "\n",
    "fibonacci(30)"
   ]
  },
  {
   "cell_type": "code",
   "execution_count": null,
   "id": "a0e9a082",
   "metadata": {},
   "outputs": [],
   "source": [
    "%time fibonacci(30)"
   ]
  },
  {
   "cell_type": "code",
   "execution_count": null,
   "id": "8817cb3f-9c67-4da2-9f18-36343d95dc96",
   "metadata": {},
   "outputs": [],
   "source": []
  }
 ],
 "metadata": {
  "kernelspec": {
   "display_name": "Python [conda env:jupyter] *",
   "language": "python",
   "name": "conda-env-jupyter-py"
  },
  "language_info": {
   "codemirror_mode": {
    "name": "ipython",
    "version": 3
   },
   "file_extension": ".py",
   "mimetype": "text/x-python",
   "name": "python",
   "nbconvert_exporter": "python",
   "pygments_lexer": "ipython3",
   "version": "3.12.5"
  }
 },
 "nbformat": 4,
 "nbformat_minor": 5
}
