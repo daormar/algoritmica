{
 "cells": [
  {
   "cell_type": "code",
   "execution_count": null,
   "id": "cc94fdd8-e31a-4569-9be8-f50279358459",
   "metadata": {},
   "outputs": [],
   "source": [
    "import sys\n",
    "import turtle\n",
    "\n",
    "def koch(a, order):\n",
    "    if order == 0:\n",
    "        turtle.forward(a)\n",
    "    else:\n",
    "        for t in [0, 60, -120, 60]:\n",
    "            turtle.left(t)\n",
    "            turtle.forward(a/3)\n",
    "\n",
    "# Establecer orden\n",
    "order = 1\n",
    "\n",
    "# Establecer tamaño de pantalla\n",
    "turtle.screensize(canvwidth=400, canvheight=400, bg=\"white\")\n",
    "\n",
    "# Posiciona cursor\n",
    "turtle.hideturtle()\n",
    "turtle.penup()  # Lift the pen to avoid drawing\n",
    "turtle.goto(-400, 0)\n",
    "turtle.pendown()  # Place the pen down to resume drawing\n",
    "turtle.showturtle()\n",
    "\n",
    "# Establecer color de línea\n",
    "turtle.color(\"blue\")\n",
    "\n",
    "# Pinta línea\n",
    "koch(800, order)\n",
    "\n",
    "turtle.done()"
   ]
  },
  {
   "cell_type": "code",
   "execution_count": null,
   "id": "b2a9cc95-e3fe-46c3-a22b-d36796743b50",
   "metadata": {},
   "outputs": [],
   "source": []
  }
 ],
 "metadata": {
  "kernelspec": {
   "display_name": "Python [conda env:jupyter] *",
   "language": "python",
   "name": "conda-env-jupyter-py"
  },
  "language_info": {
   "codemirror_mode": {
    "name": "ipython",
    "version": 3
   },
   "file_extension": ".py",
   "mimetype": "text/x-python",
   "name": "python",
   "nbconvert_exporter": "python",
   "pygments_lexer": "ipython3",
   "version": "3.12.5"
  }
 },
 "nbformat": 4,
 "nbformat_minor": 5
}
