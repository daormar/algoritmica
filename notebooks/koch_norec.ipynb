{
 "cells": [
  {
   "cell_type": "code",
   "execution_count": 3,
   "id": "cc94fdd8-e31a-4569-9be8-f50279358459",
   "metadata": {},
   "outputs": [],
   "source": [
    "import sys\n",
    "import turtle\n",
    "\n",
    "def koch(a, order):\n",
    "    if order > 0:\n",
    "        for t in [60, -120, 60, 0]:\n",
    "            turtle.forward(a/3)\n",
    "            turtle.left(t)\n",
    "    else:\n",
    "        turtle.forward(a)\n",
    "\n",
    "# Establecer orden\n",
    "order = 1\n",
    "\n",
    "# Establecer pantalla\n",
    "turtle.screensize(canvwidth=400, canvheight=400, bg=\"white\")\n",
    "\n",
    "# Posiciona cursor\n",
    "turtle.hideturtle()\n",
    "turtle.penup()  # Lift the pen to avoid drawing\n",
    "turtle.goto(-400, 0)\n",
    "turtle.pendown()  # Place the pen down to resume drawing\n",
    "turtle.showturtle()\n",
    "\n",
    "# Pinta línea\n",
    "koch(800, order)\n",
    "\n",
    "turtle.done()"
   ]
  }
 ],
 "metadata": {
  "kernelspec": {
   "display_name": "ub_alg",
   "language": "python",
   "name": "python3"
  },
  "language_info": {
   "codemirror_mode": {
    "name": "ipython",
    "version": 3
   },
   "file_extension": ".py",
   "mimetype": "text/x-python",
   "name": "python",
   "nbconvert_exporter": "python",
   "pygments_lexer": "ipython3",
   "version": "3.10.9"
  }
 },
 "nbformat": 4,
 "nbformat_minor": 5
}
