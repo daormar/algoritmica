{
 "cells": [
  {
   "cell_type": "code",
   "execution_count": null,
   "id": "cc94fdd8-e31a-4569-9be8-f50279358459",
   "metadata": {},
   "outputs": [],
   "source": [
    "import turtle\n",
    "\n",
    "for _ in range(4):\n",
    "    turtle.forward(100)\n",
    "    turtle.left(90)\n",
    "turtle.done()"
   ]
  },
  {
   "cell_type": "code",
   "execution_count": null,
   "id": "198cc625-5bc5-45b9-9590-f36ff05a616d",
   "metadata": {},
   "outputs": [],
   "source": []
  }
 ],
 "metadata": {
  "kernelspec": {
   "display_name": "Python [conda env:ub_alg]",
   "language": "python",
   "name": "conda-env-ub_alg-py"
  },
  "language_info": {
   "codemirror_mode": {
    "name": "ipython",
    "version": 3
   },
   "file_extension": ".py",
   "mimetype": "text/x-python",
   "name": "python",
   "nbconvert_exporter": "python",
   "pygments_lexer": "ipython3",
   "version": "3.10.9"
  }
 },
 "nbformat": 4,
 "nbformat_minor": 5
}
