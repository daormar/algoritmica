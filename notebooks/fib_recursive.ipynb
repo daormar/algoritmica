{
 "cells": [
  {
   "cell_type": "code",
   "execution_count": null,
   "id": "fa705987-dff5-4484-97e1-22fb42f2d42f",
   "metadata": {},
   "outputs": [],
   "source": [
    "def fibonacci(n):\n",
    "    # Verifica si se ha solicitado alguno de los términos iniciales\n",
    "    if n == 0:\n",
    "        return 0\n",
    "    elif n == 1:\n",
    "        return 1\n",
    "    # No se ha solicitado un término inicial\n",
    "    return fibonacci(n - 1) + fibonacci(n - 2)"
   ]
  }
 ],
 "metadata": {
  "kernelspec": {
   "display_name": "Python [conda env:jupyter] *",
   "language": "python",
   "name": "conda-env-jupyter-py"
  },
  "language_info": {
   "codemirror_mode": {
    "name": "ipython",
    "version": 3
   },
   "file_extension": ".py",
   "mimetype": "text/x-python",
   "name": "python",
   "nbconvert_exporter": "python",
   "pygments_lexer": "ipython3",
   "version": "3.12.5"
  }
 },
 "nbformat": 4,
 "nbformat_minor": 5
}
