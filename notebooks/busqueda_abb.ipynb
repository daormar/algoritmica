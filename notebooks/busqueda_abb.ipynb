{
 "cells": [
  {
   "cell_type": "code",
   "execution_count": 4,
   "id": "cc94fdd8-e31a-4569-9be8-f50279358459",
   "metadata": {},
   "outputs": [
    {
     "name": "stdout",
     "output_type": "stream",
     "text": [
      "6\n"
     ]
    }
   ],
   "source": [
    "def buscar_en_abb(arbol, clave):\n",
    "    if arbol is None or arbol['valor'] == clave:\n",
    "        return arbol\n",
    "    if clave < arbol['valor']:\n",
    "        return buscar_en_abb(arbol['izquierdo'], clave)\n",
    "    else:\n",
    "        return buscar_en_abb(arbol['derecho'], clave)\n",
    "\n",
    "# Ejemplo de uso:\n",
    "abb = {\n",
    "    'valor': 8,\n",
    "    'izquierdo': {\n",
    "        'valor': 3,\n",
    "        'izquierdo': {'valor': 1, 'izquierdo': None, 'derecho': None},\n",
    "        'derecho': {'valor': 6, 'izquierdo': None, 'derecho': None}\n",
    "    },\n",
    "    'derecho': {\n",
    "        'valor': 10,\n",
    "        'izquierdo': None,\n",
    "        'derecho': {'valor': 14, 'izquierdo': None, 'derecho': None}\n",
    "    }\n",
    "}\n",
    "\n",
    "resultado = buscar_en_abb(abb, 6)\n",
    "print(resultado['valor'] if resultado else \"No encontrado\")"
   ]
  }
 ],
 "metadata": {
  "kernelspec": {
   "display_name": "ub_alg",
   "language": "python",
   "name": "python3"
  },
  "language_info": {
   "codemirror_mode": {
    "name": "ipython",
    "version": 3
   },
   "file_extension": ".py",
   "mimetype": "text/x-python",
   "name": "python",
   "nbconvert_exporter": "python",
   "pygments_lexer": "ipython3",
   "version": "3.10.9"
  }
 },
 "nbformat": 4,
 "nbformat_minor": 5
}
