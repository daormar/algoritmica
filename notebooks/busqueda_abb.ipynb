{
 "cells": [
  {
   "cell_type": "code",
   "execution_count": null,
   "id": "cc94fdd8-e31a-4569-9be8-f50279358459",
   "metadata": {},
   "outputs": [],
   "source": [
    "def buscar_en_abb(arbol, valor):\n",
    "    if arbol is None:\n",
    "        return None\n",
    "    elif arbol['valor'] == valor:\n",
    "        return arbol\n",
    "    elif valor < arbol['valor']:\n",
    "        return buscar_en_abb(arbol['izquierdo'], valor)\n",
    "    else:\n",
    "        return buscar_en_abb(arbol['derecho'], valor)\n",
    "\n",
    "# Ejemplo de uso:\n",
    "abb = {\n",
    "    'valor': 8,\n",
    "    'izquierdo': {\n",
    "        'valor': 3,\n",
    "        'izquierdo': {'valor': 1, 'izquierdo': None, 'derecho': None},\n",
    "        'derecho': {'valor': 6, 'izquierdo': None, 'derecho': None}\n",
    "    },\n",
    "    'derecho': {\n",
    "        'valor': 10,\n",
    "        'izquierdo': None,\n",
    "        'derecho': {'valor': 14, 'izquierdo': None, 'derecho': None}\n",
    "    }\n",
    "}\n",
    "\n",
    "resultado = buscar_en_abb(abb, 6)\n",
    "print(resultado['valor'] if resultado else \"No encontrado\")"
   ]
  },
  {
   "cell_type": "code",
   "execution_count": null,
   "id": "3c37133b-b56e-4f1d-80a7-54a674b57652",
   "metadata": {},
   "outputs": [],
   "source": []
  }
 ],
 "metadata": {
  "kernelspec": {
   "display_name": "Python [conda env:jupyter] *",
   "language": "python",
   "name": "conda-env-jupyter-py"
  },
  "language_info": {
   "codemirror_mode": {
    "name": "ipython",
    "version": 3
   },
   "file_extension": ".py",
   "mimetype": "text/x-python",
   "name": "python",
   "nbconvert_exporter": "python",
   "pygments_lexer": "ipython3",
   "version": "3.12.5"
  }
 },
 "nbformat": 4,
 "nbformat_minor": 5
}
