{
 "cells": [
  {
   "cell_type": "code",
   "execution_count": null,
   "id": "cc94fdd8-e31a-4569-9be8-f50279358459",
   "metadata": {},
   "outputs": [],
   "source": [
    "abb = {\n",
    "    'valor': 8,\n",
    "    'izquierdo': {\n",
    "        'valor': 3,\n",
    "        'izquierdo': {'valor': 1, 'izquierdo': None, 'derecho': None},\n",
    "        'derecho': {'valor': 6, 'izquierdo': None, 'derecho': None}\n",
    "    },\n",
    "    'derecho': {\n",
    "        'valor': 10,\n",
    "        'izquierdo': None,\n",
    "        'derecho': {'valor': 14, 'izquierdo': None, 'derecho': None}\n",
    "    }\n",
    "}\n",
    "\n",
    "print(abb[\"valor\"])\n",
    "print(abb[\"izquierdo\"])\n",
    "print(abb[\"derecho\"])"
   ]
  }
 ],
 "metadata": {
  "kernelspec": {
   "display_name": "ub_alg",
   "language": "python",
   "name": "python3"
  },
  "language_info": {
   "codemirror_mode": {
    "name": "ipython",
    "version": 3
   },
   "file_extension": ".py",
   "mimetype": "text/x-python",
   "name": "python",
   "nbconvert_exporter": "python",
   "pygments_lexer": "ipython3",
   "version": "3.10.9"
  }
 },
 "nbformat": 4,
 "nbformat_minor": 5
}
