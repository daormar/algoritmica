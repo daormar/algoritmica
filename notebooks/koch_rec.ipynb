{
 "cells": [
  {
   "cell_type": "code",
   "execution_count": null,
   "id": "cc94fdd8-e31a-4569-9be8-f50279358459",
   "metadata": {},
   "outputs": [],
   "source": [
    "import sys\n",
    "import turtle\n",
    "\n",
    "def koch(a, order):\n",
    "    if order > 0:\n",
    "        for t in [0, 60, -120, 60]:\n",
    "            turtle.left(t)\n",
    "            koch(a/3, order-1)\n",
    "    else:\n",
    "        turtle.forward(a)\n",
    "\n",
    "# Obtener orden\n",
    "order = 4\n",
    "\n",
    "# Establecer tamaño de pantalla\n",
    "turtle.screensize(canvwidth=400, canvheight=400, bg=\"white\")\n",
    "\n",
    "# Posiciona cursor\n",
    "turtle.hideturtle()\n",
    "turtle.penup()  # Lift the pen to avoid drawing\n",
    "turtle.goto(-400, 0)\n",
    "turtle.pendown()  # Place the pen down to resume drawing\n",
    "turtle.showturtle()\n",
    "\n",
    "# Establecer color de línea\n",
    "turtle.color(\"blue\")\n",
    "\n",
    "# Pinta línea\n",
    "koch(800, order)\n",
    "\n",
    "turtle.done()"
   ]
  },
  {
   "cell_type": "code",
   "execution_count": null,
   "id": "036bf637-cb16-4482-a601-5b49fa4c5f7d",
   "metadata": {},
   "outputs": [],
   "source": []
  }
 ],
 "metadata": {
  "kernelspec": {
   "display_name": "Python [conda env:jupyter] *",
   "language": "python",
   "name": "conda-env-jupyter-py"
  },
  "language_info": {
   "codemirror_mode": {
    "name": "ipython",
    "version": 3
   },
   "file_extension": ".py",
   "mimetype": "text/x-python",
   "name": "python",
   "nbconvert_exporter": "python",
   "pygments_lexer": "ipython3",
   "version": "3.12.5"
  }
 },
 "nbformat": 4,
 "nbformat_minor": 5
}
