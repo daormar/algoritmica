{
 "cells": [
  {
   "cell_type": "code",
   "execution_count": null,
   "id": "5f03fc4a",
   "metadata": {},
   "outputs": [],
   "source": [
    "def fibonacci(n, memo={}):\n",
    "    # Comprobar si el término ya ha sido calculado previamente\n",
    "    if n in memo:\n",
    "        return memo[n]\n",
    "\n",
    "    # Caso base de la recursión\n",
    "    if n <= 1:\n",
    "        return n\n",
    "\n",
    "    # Caso recursivo con memoización\n",
    "    memo[n] = fibonacci(n - 1, memo) + fibonacci(n - 2, memo)\n",
    "    return memo[n]\n",
    "\n",
    "fibonacci(30)"
   ]
  },
  {
   "cell_type": "code",
   "execution_count": null,
   "id": "7b797152",
   "metadata": {},
   "outputs": [],
   "source": [
    "%time fibonacci(30)"
   ]
  },
  {
   "cell_type": "code",
   "execution_count": null,
   "id": "5cb19eea-3f37-42dd-a1d0-7c4bc7bb29aa",
   "metadata": {},
   "outputs": [],
   "source": []
  }
 ],
 "metadata": {
  "kernelspec": {
   "display_name": "Python [conda env:jupyter] *",
   "language": "python",
   "name": "conda-env-jupyter-py"
  },
  "language_info": {
   "codemirror_mode": {
    "name": "ipython",
    "version": 3
   },
   "file_extension": ".py",
   "mimetype": "text/x-python",
   "name": "python",
   "nbconvert_exporter": "python",
   "pygments_lexer": "ipython3",
   "version": "3.12.5"
  }
 },
 "nbformat": 4,
 "nbformat_minor": 5
}
